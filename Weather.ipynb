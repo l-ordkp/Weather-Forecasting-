{
 "cells": [
  {
   "cell_type": "code",
   "execution_count": 1,
   "metadata": {},
   "outputs": [],
   "source": [
    "import pandas as pd\n",
    "import numpy as np"
   ]
  },
  {
   "cell_type": "code",
   "execution_count": 2,
   "metadata": {},
   "outputs": [],
   "source": [
    "data = pd.read_csv(\"Weather Data.csv\")"
   ]
  },
  {
   "cell_type": "code",
   "execution_count": 3,
   "metadata": {},
   "outputs": [
    {
     "data": {
      "text/html": [
       "<div>\n",
       "<style scoped>\n",
       "    .dataframe tbody tr th:only-of-type {\n",
       "        vertical-align: middle;\n",
       "    }\n",
       "\n",
       "    .dataframe tbody tr th {\n",
       "        vertical-align: top;\n",
       "    }\n",
       "\n",
       "    .dataframe thead th {\n",
       "        text-align: right;\n",
       "    }\n",
       "</style>\n",
       "<table border=\"1\" class=\"dataframe\">\n",
       "  <thead>\n",
       "    <tr style=\"text-align: right;\">\n",
       "      <th></th>\n",
       "      <th>Date/Time</th>\n",
       "      <th>Temp_C</th>\n",
       "      <th>Dew Point Temp_C</th>\n",
       "      <th>Rel Hum_%</th>\n",
       "      <th>Wind Speed_km/h</th>\n",
       "      <th>Visibility_km</th>\n",
       "      <th>Press_kPa</th>\n",
       "      <th>Weather</th>\n",
       "    </tr>\n",
       "  </thead>\n",
       "  <tbody>\n",
       "    <tr>\n",
       "      <th>0</th>\n",
       "      <td>1/1/2012 0:00</td>\n",
       "      <td>-1.8</td>\n",
       "      <td>-3.9</td>\n",
       "      <td>86</td>\n",
       "      <td>4</td>\n",
       "      <td>8.0</td>\n",
       "      <td>101.24</td>\n",
       "      <td>Fog</td>\n",
       "    </tr>\n",
       "    <tr>\n",
       "      <th>1</th>\n",
       "      <td>1/1/2012 1:00</td>\n",
       "      <td>-1.8</td>\n",
       "      <td>-3.7</td>\n",
       "      <td>87</td>\n",
       "      <td>4</td>\n",
       "      <td>8.0</td>\n",
       "      <td>101.24</td>\n",
       "      <td>Fog</td>\n",
       "    </tr>\n",
       "    <tr>\n",
       "      <th>2</th>\n",
       "      <td>1/1/2012 2:00</td>\n",
       "      <td>-1.8</td>\n",
       "      <td>-3.4</td>\n",
       "      <td>89</td>\n",
       "      <td>7</td>\n",
       "      <td>4.0</td>\n",
       "      <td>101.26</td>\n",
       "      <td>Freezing Drizzle,Fog</td>\n",
       "    </tr>\n",
       "    <tr>\n",
       "      <th>3</th>\n",
       "      <td>1/1/2012 3:00</td>\n",
       "      <td>-1.5</td>\n",
       "      <td>-3.2</td>\n",
       "      <td>88</td>\n",
       "      <td>6</td>\n",
       "      <td>4.0</td>\n",
       "      <td>101.27</td>\n",
       "      <td>Freezing Drizzle,Fog</td>\n",
       "    </tr>\n",
       "    <tr>\n",
       "      <th>4</th>\n",
       "      <td>1/1/2012 4:00</td>\n",
       "      <td>-1.5</td>\n",
       "      <td>-3.3</td>\n",
       "      <td>88</td>\n",
       "      <td>7</td>\n",
       "      <td>4.8</td>\n",
       "      <td>101.23</td>\n",
       "      <td>Fog</td>\n",
       "    </tr>\n",
       "  </tbody>\n",
       "</table>\n",
       "</div>"
      ],
      "text/plain": [
       "       Date/Time  Temp_C  Dew Point Temp_C  Rel Hum_%  Wind Speed_km/h  \\\n",
       "0  1/1/2012 0:00    -1.8              -3.9         86                4   \n",
       "1  1/1/2012 1:00    -1.8              -3.7         87                4   \n",
       "2  1/1/2012 2:00    -1.8              -3.4         89                7   \n",
       "3  1/1/2012 3:00    -1.5              -3.2         88                6   \n",
       "4  1/1/2012 4:00    -1.5              -3.3         88                7   \n",
       "\n",
       "   Visibility_km  Press_kPa               Weather  \n",
       "0            8.0     101.24                   Fog  \n",
       "1            8.0     101.24                   Fog  \n",
       "2            4.0     101.26  Freezing Drizzle,Fog  \n",
       "3            4.0     101.27  Freezing Drizzle,Fog  \n",
       "4            4.8     101.23                   Fog  "
      ]
     },
     "execution_count": 3,
     "metadata": {},
     "output_type": "execute_result"
    }
   ],
   "source": [
    "data.head()"
   ]
  },
  {
   "cell_type": "code",
   "execution_count": 4,
   "metadata": {},
   "outputs": [
    {
     "data": {
      "text/plain": [
       "Date/Time  Temp_C  Dew Point Temp_C  Rel Hum_%  Wind Speed_km/h  Visibility_km  Press_kPa  Weather\n",
       "False      False   False             False      False            False          False      False      8784\n",
       "Name: count, dtype: int64"
      ]
     },
     "execution_count": 4,
     "metadata": {},
     "output_type": "execute_result"
    }
   ],
   "source": [
    "na = data.isna()\n",
    "na.value_counts()\n"
   ]
  },
  {
   "cell_type": "code",
   "execution_count": 5,
   "metadata": {},
   "outputs": [
    {
     "name": "stdout",
     "output_type": "stream",
     "text": [
      "<class 'pandas.core.frame.DataFrame'>\n",
      "RangeIndex: 8784 entries, 0 to 8783\n",
      "Data columns (total 8 columns):\n",
      " #   Column            Non-Null Count  Dtype  \n",
      "---  ------            --------------  -----  \n",
      " 0   Date/Time         8784 non-null   object \n",
      " 1   Temp_C            8784 non-null   float64\n",
      " 2   Dew Point Temp_C  8784 non-null   float64\n",
      " 3   Rel Hum_%         8784 non-null   int64  \n",
      " 4   Wind Speed_km/h   8784 non-null   int64  \n",
      " 5   Visibility_km     8784 non-null   float64\n",
      " 6   Press_kPa         8784 non-null   float64\n",
      " 7   Weather           8784 non-null   object \n",
      "dtypes: float64(4), int64(2), object(2)\n",
      "memory usage: 549.1+ KB\n"
     ]
    }
   ],
   "source": [
    "data.info()"
   ]
  },
  {
   "cell_type": "code",
   "execution_count": 6,
   "metadata": {},
   "outputs": [
    {
     "name": "stdout",
     "output_type": "stream",
     "text": [
      "   Temp_C  Dew Point Temp_C  Rel Hum_%  Wind Speed_km/h  Visibility_km  \\\n",
      "0    -1.8              -3.9         86                4            8.0   \n",
      "1    -1.8              -3.7         87                4            8.0   \n",
      "2    -1.8              -3.4         89                7            4.0   \n",
      "3    -1.5              -3.2         88                6            4.0   \n",
      "4    -1.5              -3.3         88                7            4.8   \n",
      "\n",
      "   Press_kPa               Weather        Date      Time  \n",
      "0     101.24                   Fog  2012-01-01  00:00:00  \n",
      "1     101.24                   Fog  2012-01-01  01:00:00  \n",
      "2     101.26  Freezing Drizzle,Fog  2012-01-01  02:00:00  \n",
      "3     101.27  Freezing Drizzle,Fog  2012-01-01  03:00:00  \n",
      "4     101.23                   Fog  2012-01-01  04:00:00  \n"
     ]
    }
   ],
   "source": [
    "data['Date/Time'] = pd.to_datetime(data['Date/Time'])\n",
    "\n",
    "\n",
    "data['Date'] = data['Date/Time'].dt.date\n",
    "data['Time'] = data['Date/Time'].dt.time\n",
    "\n",
    "data = data.drop(columns=['Date/Time'])\n",
    "\n",
    "\n",
    "print(data.head())"
   ]
  },
  {
   "cell_type": "code",
   "execution_count": 19,
   "metadata": {},
   "outputs": [
    {
     "name": "stdout",
     "output_type": "stream",
     "text": [
      "<class 'pandas.core.frame.DataFrame'>\n",
      "RangeIndex: 8784 entries, 0 to 8783\n",
      "Data columns (total 9 columns):\n",
      " #   Column            Non-Null Count  Dtype  \n",
      "---  ------            --------------  -----  \n",
      " 0   Temp_C            8784 non-null   float64\n",
      " 1   Dew Point Temp_C  8784 non-null   float64\n",
      " 2   Rel Hum_%         8784 non-null   int64  \n",
      " 3   Wind Speed_km/h   8784 non-null   int64  \n",
      " 4   Visibility_km     8784 non-null   float64\n",
      " 5   Press_kPa         8784 non-null   float64\n",
      " 6   Weather           8784 non-null   object \n",
      " 7   Date              8784 non-null   object \n",
      " 8   Time              8784 non-null   object \n",
      "dtypes: float64(4), int64(2), object(3)\n",
      "memory usage: 617.8+ KB\n"
     ]
    }
   ],
   "source": [
    "data.info()"
   ]
  },
  {
   "cell_type": "code",
   "execution_count": 17,
   "metadata": {},
   "outputs": [],
   "source": [
    "from keras.models import Sequential\n",
    "from keras.layers import LSTM\n",
    "from keras.layers import Dense\n",
    "from keras.layers import Flatten"
   ]
  },
  {
   "cell_type": "code",
   "execution_count": 26,
   "metadata": {},
   "outputs": [],
   "source": [
    "def prepare_data(timeseries_data, n_features):\n",
    "\tX, y =[],[]\n",
    "\tfor i in range(len(timeseries_data)):\n",
    "\t\t# find the end of this pattern\n",
    "\t\tend_ix = i + n_features\n",
    "\t\t# check if we are beyond the sequence\n",
    "\t\tif end_ix > len(timeseries_data)-1:\n",
    "\t\t\tbreak\n",
    "\t\t# gather input and output parts of the pattern\n",
    "\t\tseq_x, seq_y = timeseries_data[i:end_ix], timeseries_data[end_ix]\n",
    "\t\tX.append(seq_x)\n",
    "\t\ty.append(seq_y)\n",
    "\treturn np.array(X), np.array(y)"
   ]
  },
  {
   "cell_type": "code",
   "execution_count": 36,
   "metadata": {},
   "outputs": [],
   "source": [
    "timeseries_data = data.drop(columns='Weather')"
   ]
  },
  {
   "cell_type": "code",
   "execution_count": 37,
   "metadata": {},
   "outputs": [],
   "source": [
    "timeseries_array = timeseries_data.values.flatten()"
   ]
  },
  {
   "cell_type": "code",
   "execution_count": 38,
   "metadata": {},
   "outputs": [],
   "source": [
    "# define input sequence\n",
    "timeseries_data = [110, 125, 133, 146, 158, 172, 187, 196, 210]\n",
    "# choose a number of time steps\n",
    "n_features = 100\n",
    "# split into samples\n",
    "X, y = prepare_data(timeseries_array, n_features)"
   ]
  },
  {
   "cell_type": "code",
   "execution_count": 42,
   "metadata": {},
   "outputs": [
    {
     "data": {
      "text/plain": [
       "array([[-1.8],\n",
       "       [-3.9],\n",
       "       [86],\n",
       "       [4],\n",
       "       [8.0],\n",
       "       [101.24],\n",
       "       [datetime.date(2012, 1, 1)],\n",
       "       [datetime.time(0, 0)],\n",
       "       [-1.8],\n",
       "       [-3.7],\n",
       "       [87],\n",
       "       [4],\n",
       "       [8.0],\n",
       "       [101.24],\n",
       "       [datetime.date(2012, 1, 1)],\n",
       "       [datetime.time(1, 0)],\n",
       "       [-1.8],\n",
       "       [-3.4],\n",
       "       [89],\n",
       "       [7],\n",
       "       [4.0],\n",
       "       [101.26],\n",
       "       [datetime.date(2012, 1, 1)],\n",
       "       [datetime.time(2, 0)],\n",
       "       [-1.5],\n",
       "       [-3.2],\n",
       "       [88],\n",
       "       [6],\n",
       "       [4.0],\n",
       "       [101.27],\n",
       "       [datetime.date(2012, 1, 1)],\n",
       "       [datetime.time(3, 0)],\n",
       "       [-1.5],\n",
       "       [-3.3],\n",
       "       [88],\n",
       "       [7],\n",
       "       [4.8],\n",
       "       [101.23],\n",
       "       [datetime.date(2012, 1, 1)],\n",
       "       [datetime.time(4, 0)],\n",
       "       [-1.4],\n",
       "       [-3.3],\n",
       "       [87],\n",
       "       [9],\n",
       "       [6.4],\n",
       "       [101.27],\n",
       "       [datetime.date(2012, 1, 1)],\n",
       "       [datetime.time(5, 0)],\n",
       "       [-1.5],\n",
       "       [-3.1],\n",
       "       [89],\n",
       "       [7],\n",
       "       [6.4],\n",
       "       [101.29],\n",
       "       [datetime.date(2012, 1, 1)],\n",
       "       [datetime.time(6, 0)],\n",
       "       [-1.4],\n",
       "       [-3.6],\n",
       "       [85],\n",
       "       [7],\n",
       "       [8.0],\n",
       "       [101.26],\n",
       "       [datetime.date(2012, 1, 1)],\n",
       "       [datetime.time(7, 0)],\n",
       "       [-1.4],\n",
       "       [-3.6],\n",
       "       [85],\n",
       "       [9],\n",
       "       [8.0],\n",
       "       [101.23],\n",
       "       [datetime.date(2012, 1, 1)],\n",
       "       [datetime.time(8, 0)],\n",
       "       [-1.3],\n",
       "       [-3.1],\n",
       "       [88],\n",
       "       [15],\n",
       "       [4.0],\n",
       "       [101.2],\n",
       "       [datetime.date(2012, 1, 1)],\n",
       "       [datetime.time(9, 0)],\n",
       "       [-1.0],\n",
       "       [-2.3],\n",
       "       [91],\n",
       "       [9],\n",
       "       [1.2],\n",
       "       [101.15],\n",
       "       [datetime.date(2012, 1, 1)],\n",
       "       [datetime.time(10, 0)],\n",
       "       [-0.5],\n",
       "       [-2.1],\n",
       "       [89],\n",
       "       [7],\n",
       "       [4.0],\n",
       "       [100.98],\n",
       "       [datetime.date(2012, 1, 1)],\n",
       "       [datetime.time(11, 0)],\n",
       "       [-0.2],\n",
       "       [-2.0],\n",
       "       [88],\n",
       "       [9]], dtype=object)"
      ]
     },
     "execution_count": 42,
     "metadata": {},
     "output_type": "execute_result"
    }
   ],
   "source": [
    "X[0]"
   ]
  },
  {
   "cell_type": "code",
   "execution_count": 43,
   "metadata": {},
   "outputs": [],
   "source": [
    "n_features = 1\n",
    "X = X.reshape((X.shape[0], X.shape[1], n_features))"
   ]
  }
 ],
 "metadata": {
  "kernelspec": {
   "display_name": "Python 3",
   "language": "python",
   "name": "python3"
  },
  "language_info": {
   "codemirror_mode": {
    "name": "ipython",
    "version": 3
   },
   "file_extension": ".py",
   "mimetype": "text/x-python",
   "name": "python",
   "nbconvert_exporter": "python",
   "pygments_lexer": "ipython3",
   "version": "3.8.10"
  }
 },
 "nbformat": 4,
 "nbformat_minor": 2
}
